{
  "nbformat": 4,
  "nbformat_minor": 0,
  "metadata": {
    "colab": {
      "name": "wordcloud.ipynb",
      "provenance": [],
      "authorship_tag": "ABX9TyPuWk36iKEbpQvc6E3eFCXT",
      "include_colab_link": true
    },
    "kernelspec": {
      "name": "python3",
      "display_name": "Python 3"
    },
    "language_info": {
      "name": "python"
    }
  },
  "cells": [
    {
      "cell_type": "markdown",
      "metadata": {
        "id": "view-in-github",
        "colab_type": "text"
      },
      "source": [
        "<a href=\"https://colab.research.google.com/github/tanishajoshi/nlp-fair-redistricting/blob/main/wordcloud.ipynb\" target=\"_parent\"><img src=\"https://colab.research.google.com/assets/colab-badge.svg\" alt=\"Open In Colab\"/></a>"
      ]
    },
    {
      "cell_type": "code",
      "execution_count": 1,
      "metadata": {
        "id": "jBGPqSJdC_CP"
      },
      "outputs": [],
      "source": [
        "from wordcloud import WordCloud, STOPWORDS\n",
        "import matplotlib.pyplot as plt\n",
        "import pandas as pd"
      ]
    },
    {
      "cell_type": "code",
      "source": [
        "from __future__ import print_function  # Python 2/3 compatible\n",
        "\n",
        "from sys import exit, argv\n",
        "import matplotlib.pyplot as plt\n",
        "from wordcloud import WordCloud\n",
        "from os import path\n",
        "# import argparse  # DONE : switch to docopt (https://github.com/docopt/docopt)\n",
        "from docopt import docopt\n",
        "\n",
        "try:\n",
        "    try:\n",
        "        from ansicolortags import printc\n",
        "    except ImportError as e:\n",
        "        print(\"Optional dependancy (ansicolortags) is not available, using regular print function.\")\n",
        "        print(\"  You can install it with : 'pip install ansicolortags' (or sudo pip)...\")\n",
        "        from ANSIColors import printc\n",
        "except ImportError:\n",
        "    printc = print\n",
        "\n",
        "# Options\n",
        "version = '0.3'\n",
        "show = False\n",
        "\n",
        "\n",
        "def readfiles(filenames):\n",
        "    \"\"\" Return the content of each file, concatenated as one big string.\n",
        "    - Path could be relative or absolute, but nothing fancy is done here.\n",
        "    \"\"\"\n",
        "    text = \"\"\n",
        "    # Read the whole text for each file\n",
        "    for filename in filenames:\n",
        "        try:\n",
        "            text += open(filename, 'r').read()\n",
        "            text += r\"\\n\"\n",
        "        except Exception as e:\n",
        "            printc(\"<ERROR>Error, exception: <reset>{}.\".format(e))\n",
        "            printc(\"<red>Skipping file <black>'{}'<reset>...\".format(filename))\n",
        "    # return \"\\n\".join(open(filename, 'r').read() for filename in filenames)\n",
        "    return text\n",
        "\n",
        "\n",
        "def generate(text, max_words=200, width=800, height=600):\n",
        "    \"\"\" Generate a word cloud image from the given text (one huge string). \"\"\"\n",
        "    # Take relative word frequencies into account, lower max_font_size\n",
        "    max_words = int(max_words) if max_words is not None else  200\n",
        "    width     = int(width)     if width     is not None else  800\n",
        "    height    = int(height)    if height    is not None else  600\n",
        "    wc = WordCloud(max_font_size=40,\n",
        "                   relative_scaling=.5,\n",
        "                   max_words=max_words,\n",
        "                   width=width,\n",
        "                   height=height\n",
        "                   )\n",
        "    return wc.generate(text)\n",
        "\n",
        "    def makeimage(wordcloud,\n",
        "              outname='wordcloud.png', title='Word cloud', show=False, force=False):\n",
        "      \n",
        "      try:\n",
        "        # 2. the matplotlib way:\n",
        "        plt.figure()\n",
        "        plt.imshow(wordcloud)\n",
        "        plt.axis(\"off\")\n",
        "        if title:\n",
        "            printc(\"<magenta>Using title<reset> <blue>'{}'<reset>.\".format(title))\n",
        "            plt.title(title)\n",
        "        if show:\n",
        "            printc(\"<green>Showing the generated image...<reset>\")\n",
        "            plt.show()\n",
        "        else:\n",
        "            printc(\"<green>Saving the generated image<reset> to <blue>'{}'<reset>...\".format(outname))\n",
        "            if (not force) and path.exists(outname):\n",
        "                erase = raw_input(\"The outfile '{}' already exists, should I erase it ?  [y/N]\".format(outname))\n",
        "                if erase == 'y':\n",
        "                    plt.savefig(outname)\n",
        "                else:\n",
        "                    printc(\"<magenta>Not erasing it...<reset>\")\n",
        "                    printc(\"<green>Showing the generated image...<reset>\")\n",
        "                    plt.show()\n",
        "            else:\n",
        "                if force:\n",
        "                    printc(\"<WARNING> -f or --force has been used, overwriting the image '{}' <red>without<reset> asking you...\".format(outname))\n",
        "                plt.savefig(outname)\n",
        "        except Exception as e:\n",
        "          printc(\"<ERROR> Error, exception<reset>: {}\".format(e))\n",
        "          printc(\"<WARNING> Something went wrong with matplotlib, switching to PIL backend... (just showing the image, <red>not<reset> saving it!)\")\n",
        "          image = wordcloud.to_image()\n",
        "          image.show()\n",
        "      return True\n",
        "\n",
        "    def main(argv):\n",
        "    # Use the arg parser\n",
        "      args = docopt(full_docopt_text, argv=argv, version=\"generate-word-cloud.py v{}\".format(version))\n",
        "    # printc(\"<magenta>Arguments: {} <reset>\".format(args))  # DEBUG\n",
        "\n",
        "    # Read the files\n",
        "      printc(\"<green>Reading the files<reset>, from: <blue>{}<reset>.\".format(args['INFILE']))\n",
        "      text = readfiles(args['INFILE'])\n",
        "    # Decide where to save it\n",
        "      outname = args['--outfile'] if args['--outfile'] else 'wordcloud.png'\n",
        "    # Generate the wordcloud\n",
        "    # print(\"Making a wordcloud from this text:\\n\", text)  # DEBUG\n",
        "      wordcloud = generate(text,\n",
        "                         max_words=args['--max'],\n",
        "                         width=args['--width'],\n",
        "                         height=args['--height']\n",
        "                         )\n",
        "    # Finally, saving the image\n",
        "      printc(\"<green>Making the image<reset> and saving it to <blue>{}<reset>.\".format(outname))\n",
        "      makeimage(wordcloud,\n",
        "              outname=outname, title=args['--title'],\n",
        "              force=args['--force'], show=args['--show']\n",
        "              )\n",
        "      return 0\n",
        "    if __name__ == \"__main__\":\n",
        "      exit(int(main(argv[1:])))"
      ],
      "metadata": {
        "colab": {
          "base_uri": "https://localhost:8080/",
          "height": 131
        },
        "id": "5JSRm3B-XzJk",
        "outputId": "41c5be0f-c578-493a-d7bd-de3b944e4690"
      },
      "execution_count": 8,
      "outputs": [
        {
          "output_type": "error",
          "ename": "IndentationError",
          "evalue": "ignored",
          "traceback": [
            "\u001b[0;36m  File \u001b[0;32m\"<ipython-input-8-37a1752302da>\"\u001b[0;36m, line \u001b[0;32m58\u001b[0m\n\u001b[0;31m    \"\"\" Display or save the wordcloud as a image. \"\"\"\u001b[0m\n\u001b[0m                                                    ^\u001b[0m\n\u001b[0;31mIndentationError\u001b[0m\u001b[0;31m:\u001b[0m expected an indented block\n"
          ]
        }
      ]
    }
  ]
}